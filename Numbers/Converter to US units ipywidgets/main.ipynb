{
 "cells": [
  {
   "cell_type": "markdown",
   "metadata": {},
   "source": [
    "### Converter metric to imperial, imperial to metric, ipywidgets visualisation"
   ]
  },
  {
   "cell_type": "code",
   "execution_count": 10,
   "metadata": {},
   "outputs": [
    {
     "data": {
      "application/vnd.jupyter.widget-view+json": {
       "model_id": "e09395f961474a54a63e64a1f3716853",
       "version_major": 2,
       "version_minor": 0
      },
      "text/plain": [
       "interactive(children=(Dropdown(description='unit_type', options=('length', 'weight', 'temperatur'), value='len…"
      ]
     },
     "metadata": {},
     "output_type": "display_data"
    },
    {
     "data": {
      "application/vnd.jupyter.widget-view+json": {
       "model_id": "37a10f60da17498c8bb739f081e0910a",
       "version_major": 2,
       "version_minor": 0
      },
      "text/plain": [
       "HBox(children=(FloatText(value=0.0, description='Imperical', step=0.01), FloatText(value=5.0, description='Met…"
      ]
     },
     "metadata": {},
     "output_type": "display_data"
    }
   ],
   "source": [
    "import ipywidgets as widgets\n",
    "from IPython.display import display\n",
    "from ipywidgets import interact, interactive, fixed, Layout\n",
    "%run converter.py\n",
    "\n",
    "option_list = [\"length\", \"weight\",\"temperatur\"]\n",
    "length_parameter_imperial = ['inch', 'foot', 'yard','mile','hand']\n",
    "length_parameter_metric = ['millimeters', 'meters', 'kilometers']\n",
    "weight_parameter_imperial = ['ounce', 'pound', 'stone','short ton','long ton']\n",
    "weight_parameter_metric = ['kilogram', 'gram', 'tonna']\n",
    "temperaturе_parameter_imperial = ['Fahrenheit']\n",
    "temperaturе_parameter_metric = ['Celsius']\n",
    "imperic_value = widgets.FloatText(step=0.01,description='Imperical',continuous_update=False)\n",
    "metric_value = widgets.FloatText(step=0.01, value=5.0,description='Metric',continuous_update=False)\n",
    "parameters=['',widgets.Dropdown(),widgets.Dropdown()]\n",
    "\n",
    "def unit_type(unit_type):\n",
    "    if unit_type == 'length':\n",
    "        imp_list = widgets.Dropdown(options=length_parameter_imperial,value='foot',description='Imperical',disabled=False,)\n",
    "        met_list = widgets.Dropdown(options=length_parameter_metric,value='meters',description='Metric',disabled=False,)\n",
    "        ui = widgets.HBox([imp_list, met_list])\n",
    "        display(ui)\n",
    "    elif unit_type == 'weight':\n",
    "        imp_list = widgets.Dropdown(options=weight_parameter_imperial,value='pound',description='Imperical',disabled=False,)\n",
    "        met_list = widgets.Dropdown(options=weight_parameter_metric,value='kilogram',description='Metric',disabled=False,)\n",
    "        ui = widgets.HBox([imp_list, met_list])\n",
    "        display(ui)\n",
    "    elif unit_type == 'temperatur':\n",
    "        imp_list = widgets.Dropdown(options=temperaturе_parameter_imperial,value='Fahrenheit',description='Imperical',disabled=False,)\n",
    "        met_list = widgets.Dropdown(options=temperaturе_parameter_metric,value='Celsius',description='Metric',disabled=False,)\n",
    "        ui = widgets.HBox([imp_list, met_list])\n",
    "        display(ui)\n",
    "    parameters[0]=unit_type\n",
    "    parameters[1]=imp_list\n",
    "    parameters[2]=met_list\n",
    "        \n",
    "def update_metric_value(*args):\n",
    "    metric_value.unobserve(update_imperic_value, 'value')    \n",
    "    metric_value.value = convert_to_metric(imperic_value.value)\n",
    "    metric_value.observe(update_imperic_value, 'value')\n",
    "def update_imperic_value(*args):\n",
    "    imperic_value.unobserve(update_metric_value, 'value')\n",
    "    imperic_value.value = convert_to_imperic(metric_value.value)\n",
    "    imperic_value.observe(update_metric_value, 'value')   \n",
    "    \n",
    "def convert_to_metric(value):\n",
    "    measure_unit = parameters[0]\n",
    "    imp_unit = parameters[1].value\n",
    "    met_unit  = parameters[2].value\n",
    "    \n",
    "    if measure_unit == 'length':\n",
    "        return length_to_metric(imp_unit,met_unit,value)\n",
    "    elif measure_unit == 'weight':\n",
    "        return weight_to_metric(imp_unit,met_unit,value)\n",
    "    elif measure_unit == 'temperatur':#'temperature'\n",
    "        return temp_to_metric(imp_unit,met_unit,value)\n",
    "\n",
    "def convert_to_imperic(value):\n",
    "    measure_unit = parameters[0]\n",
    "    imp_unit = parameters[1].value\n",
    "    met_unit  = parameters[2].value\n",
    "    if measure_unit == 'length':\n",
    "        return length_to_imperic(imp_unit,met_unit,value)\n",
    "    elif measure_unit == 'weight':\n",
    "        return weight_to_imperic(imp_unit,met_unit,value)\n",
    "    elif measure_unit == 'temperatur':\n",
    "        return temp_to_imperic(imp_unit,met_unit,value) \n",
    "        \n",
    "def event_observe():\n",
    "    \n",
    "    imperic_value.observe(update_metric_value, 'value')\n",
    "\n",
    "    metric_value.observe(update_imperic_value, 'value')\n",
    "\n",
    "def main():\n",
    "   \n",
    "    options=interactive(unit_type, unit_type=option_list)\n",
    "    options.layout.align_items='center'\n",
    "\n",
    "    event_observe()\n",
    "    \n",
    "    gui = widgets.HBox([imperic_value, metric_value])\n",
    "    gui.layout.justify_content = 'center'\n",
    "    display(options,gui)\n",
    "    \n",
    "if __name__ == '__main__':\n",
    "    main()"
   ]
  }
 ],
 "metadata": {
  "kernelspec": {
   "display_name": "Python 3",
   "language": "python",
   "name": "python3"
  },
  "language_info": {
   "codemirror_mode": {
    "name": "ipython",
    "version": 3
   },
   "file_extension": ".py",
   "mimetype": "text/x-python",
   "name": "python",
   "nbconvert_exporter": "python",
   "pygments_lexer": "ipython3",
   "version": "3.7.0"
  }
 },
 "nbformat": 4,
 "nbformat_minor": 2
}
